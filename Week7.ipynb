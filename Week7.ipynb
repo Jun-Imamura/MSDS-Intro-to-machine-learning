{
 "cells": [
  {
   "cell_type": "markdown",
   "id": "36c3c644-1c52-4e1a-8bf5-ac14919d720b",
   "metadata": {},
   "source": [
    "# Required Library"
   ]
  },
  {
   "cell_type": "code",
   "execution_count": 1,
   "id": "149f9395-7260-4a4c-b969-aa049b52c12b",
   "metadata": {
    "tags": []
   },
   "outputs": [],
   "source": [
    "import numpy as np\n",
    "import pandas as pd\n",
    "import matplotlib.pyplot as plt\n",
    "import seaborn as sns\n",
    "from sklearn.ensemble import RandomForestClassifier\n",
    "from sklearn.preprocessing import MinMaxScaler\n",
    "from sklearn.tree import DecisionTreeClassifier\n",
    "from sklearn.model_selection import train_test_split\n",
    "from sklearn.metrics import roc_auc_score\n",
    "from sklearn.metrics import accuracy_score\n",
    "from sklearn.metrics import confusion_matrix"
   ]
  },
  {
   "cell_type": "markdown",
   "id": "8d481d83-5542-4dcd-9d01-47be64e93c8a",
   "metadata": {},
   "source": [
    "***\n",
    "# 1. **Description**\n",
    "## 1-1. **Project Descriptionand its Goal**\n",
    "Unfortunately, workers in tech industry are relatively vulnerable against mental illness (in my understanding).\n",
    "\n",
    "In this project, I'd like to develop a model to predict mental illness from responses against related questions, which is gathered by OSMH (Open Source Mental Health). So the problem is basically classification to identify the subject is currently suffering from mental disorder.\n",
    "\n",
    "## 1-2. **Dataset Description**\n",
    "OSMH Mental Health in Tech Survey 2016\n",
    "\n",
    "Data is gathered by OSMH (Open Source Mental Health) https://osmhhelp.org/index.html in 2016.\n",
    "Data includes around 1433 responses. Survey aims to measure attitudes towards mental health in the tech workplace, and examine the frequency of mental health disorders among tech workers.\n",
    "\n",
    "Data is avaialble [here](https://www.kaggle.com/datasets/osmi/mental-health-in-tech-2016)."
   ]
  },
  {
   "cell_type": "markdown",
   "id": "8777982f-3dd0-4407-8967-8997eb05cbbb",
   "metadata": {},
   "source": [
    "***\n",
    "# 2. **Load Dataset and Do some EDA**\n",
    "## 2-1. **Datatype and columns names**\n",
    "Dataset is summarized in table format. Columns are the questions given to the subjects and values are responses. \n",
    "\n",
    "As you can see, column names are sentences given to subjects. And values are mostly composed of categorical values."
   ]
  },
  {
   "cell_type": "code",
   "execution_count": 2,
   "id": "0e4c5f44-cb01-4f22-a443-960d5fd676c1",
   "metadata": {
    "tags": []
   },
   "outputs": [
    {
     "name": "stdout",
     "output_type": "stream",
     "text": [
      "(1433, 63)\n",
      "0 int64 :: Are you self-employed?\n",
      "1 object :: How many employees does your company or organization have?\n",
      "2 float64 :: Is your employer primarily a tech company/organization?\n",
      "3 float64 :: Is your primary role within your company related to tech/IT?\n",
      "4 object :: Does your employer provide mental health benefits as part of healthcare coverage?\n",
      "5 object :: Do you know the options for mental health care available under your employer-provided coverage?\n",
      "6 object :: Has your employer ever formally discussed mental health (for example, as part of a wellness campaign or other official communication)?\n",
      "7 object :: Does your employer offer resources to learn more about mental health concerns and options for seeking help?\n",
      "8 object :: Is your anonymity protected if you choose to take advantage of mental health or substance abuse treatment resources provided by your employer?\n",
      "9 object :: If a mental health issue prompted you to request a medical leave from work, asking for that leave would be:\n",
      "10 object :: Do you think that discussing a mental health disorder with your employer would have negative consequences?\n",
      "11 object :: Do you think that discussing a physical health issue with your employer would have negative consequences?\n",
      "12 object :: Would you feel comfortable discussing a mental health disorder with your coworkers?\n",
      "13 object :: Would you feel comfortable discussing a mental health disorder with your direct supervisor(s)?\n",
      "14 object :: Do you feel that your employer takes mental health as seriously as physical health?\n",
      "15 object :: Have you heard of or observed negative consequences for co-workers who have been open about mental health issues in your workplace?\n",
      "16 float64 :: Do you have medical coverage (private insurance or state-provided) which includes treatment of  mental health issues?\n",
      "17 object :: Do you know local or online resources to seek help for a mental health disorder?\n",
      "18 object :: If you have been diagnosed or treated for a mental health disorder, do you ever reveal this to clients or business contacts?\n",
      "19 object :: If you have revealed a mental health issue to a client or business contact, do you believe this has impacted you negatively?\n",
      "20 object :: If you have been diagnosed or treated for a mental health disorder, do you ever reveal this to coworkers or employees?\n",
      "21 object :: If you have revealed a mental health issue to a coworker or employee, do you believe this has impacted you negatively?\n",
      "22 object :: Do you believe your productivity is ever affected by a mental health issue?\n",
      "23 object :: If yes, what percentage of your work time (time performing primary or secondary job functions) is affected by a mental health issue?\n",
      "24 int64 :: Do you have previous employers?\n",
      "25 object :: Have your previous employers provided mental health benefits?\n",
      "26 object :: Were you aware of the options for mental health care provided by your previous employers?\n",
      "27 object :: Did your previous employers ever formally discuss mental health (as part of a wellness campaign or other official communication)?\n",
      "28 object :: Did your previous employers provide resources to learn more about mental health issues and how to seek help?\n",
      "29 object :: Was your anonymity protected if you chose to take advantage of mental health or substance abuse treatment resources with previous employers?\n",
      "30 object :: Do you think that discussing a mental health disorder with previous employers would have negative consequences?\n",
      "31 object :: Do you think that discussing a physical health issue with previous employers would have negative consequences?\n",
      "32 object :: Would you have been willing to discuss a mental health issue with your previous co-workers?\n",
      "33 object :: Would you have been willing to discuss a mental health issue with your direct supervisor(s)?\n",
      "34 object :: Did you feel that your previous employers took mental health as seriously as physical health?\n",
      "35 object :: Did you hear of or observe negative consequences for co-workers with mental health issues in your previous workplaces?\n",
      "36 object :: Would you be willing to bring up a physical health issue with a potential employer in an interview?\n",
      "37 object :: Why or why not?\n",
      "38 object :: Would you bring up a mental health issue with a potential employer in an interview?\n",
      "39 object :: Why or why not?.1\n",
      "40 object :: Do you feel that being identified as a person with a mental health issue would hurt your career?\n",
      "41 object :: Do you think that team members/co-workers would view you more negatively if they knew you suffered from a mental health issue?\n",
      "42 object :: How willing would you be to share with friends and family that you have a mental illness?\n",
      "43 object :: Have you observed or experienced an unsupportive or badly handled response to a mental health issue in your current or previous workplace?\n",
      "44 object :: Have your observations of how another individual who discussed a mental health disorder made you less likely to reveal a mental health issue yourself in your current workplace?\n",
      "45 object :: Do you have a family history of mental illness?\n",
      "46 object :: Have you had a mental health disorder in the past?\n",
      "47 object :: Do you currently have a mental health disorder?\n",
      "48 object :: If yes, what condition(s) have you been diagnosed with?\n",
      "49 object :: If maybe, what condition(s) do you believe you have?\n",
      "50 object :: Have you been diagnosed with a mental health condition by a medical professional?\n",
      "51 object :: If so, what condition(s) were you diagnosed with?\n",
      "52 int64 :: Have you ever sought treatment for a mental health issue from a mental health professional?\n",
      "53 object :: If you have a mental health issue, do you feel that it interferes with your work when being treated effectively?\n",
      "54 object :: If you have a mental health issue, do you feel that it interferes with your work when NOT being treated effectively?\n",
      "55 int64 :: What is your age?\n",
      "56 object :: What is your gender?\n",
      "57 object :: What country do you live in?\n",
      "58 object :: What US state or territory do you live in?\n",
      "59 object :: What country do you work in?\n",
      "60 object :: What US state or territory do you work in?\n",
      "61 object :: Which of the following best describes your work position?\n",
      "62 object :: Do you work remotely?\n"
     ]
    }
   ],
   "source": [
    "df = pd.read_csv(\"./mental-heath-in-tech-2016_20161114.csv\")\n",
    "\n",
    "# Data has 1433 answers with 63-1 questions.\n",
    "print(df.shape)\n",
    "\n",
    "# columns are questions given to the subject\n",
    "for i, c in enumerate(df.columns):\n",
    "    print(i, df[c].dtype, \"::\", c)"
   ]
  },
  {
   "cell_type": "markdown",
   "id": "0e84d452-9672-468a-9012-37ef4347b340",
   "metadata": {},
   "source": [
    "## 2-2. **Data Summary**\n",
    "It looks that each column has relatively few variations (unique values)."
   ]
  },
  {
   "cell_type": "code",
   "execution_count": 3,
   "id": "a974dfb5-3861-4d03-aa3a-51d7a0e3b569",
   "metadata": {
    "tags": []
   },
   "outputs": [
    {
     "data": {
      "text/html": [
       "<div>\n",
       "<style scoped>\n",
       "    .dataframe tbody tr th:only-of-type {\n",
       "        vertical-align: middle;\n",
       "    }\n",
       "\n",
       "    .dataframe tbody tr th {\n",
       "        vertical-align: top;\n",
       "    }\n",
       "\n",
       "    .dataframe thead th {\n",
       "        text-align: right;\n",
       "    }\n",
       "</style>\n",
       "<table border=\"1\" class=\"dataframe\">\n",
       "  <thead>\n",
       "    <tr style=\"text-align: right;\">\n",
       "      <th></th>\n",
       "      <th>How many employees does your company or organization have?</th>\n",
       "      <th>Does your employer provide mental health benefits as part of healthcare coverage?</th>\n",
       "      <th>Do you know the options for mental health care available under your employer-provided coverage?</th>\n",
       "      <th>Has your employer ever formally discussed mental health (for example, as part of a wellness campaign or other official communication)?</th>\n",
       "      <th>Does your employer offer resources to learn more about mental health concerns and options for seeking help?</th>\n",
       "      <th>Is your anonymity protected if you choose to take advantage of mental health or substance abuse treatment resources provided by your employer?</th>\n",
       "      <th>If a mental health issue prompted you to request a medical leave from work, asking for that leave would be:</th>\n",
       "      <th>Do you think that discussing a mental health disorder with your employer would have negative consequences?</th>\n",
       "      <th>Do you think that discussing a physical health issue with your employer would have negative consequences?</th>\n",
       "      <th>Would you feel comfortable discussing a mental health disorder with your coworkers?</th>\n",
       "      <th>...</th>\n",
       "      <th>If so, what condition(s) were you diagnosed with?</th>\n",
       "      <th>If you have a mental health issue, do you feel that it interferes with your work when being treated effectively?</th>\n",
       "      <th>If you have a mental health issue, do you feel that it interferes with your work when NOT being treated effectively?</th>\n",
       "      <th>What is your gender?</th>\n",
       "      <th>What country do you live in?</th>\n",
       "      <th>What US state or territory do you live in?</th>\n",
       "      <th>What country do you work in?</th>\n",
       "      <th>What US state or territory do you work in?</th>\n",
       "      <th>Which of the following best describes your work position?</th>\n",
       "      <th>Do you work remotely?</th>\n",
       "    </tr>\n",
       "  </thead>\n",
       "  <tbody>\n",
       "    <tr>\n",
       "      <th>count</th>\n",
       "      <td>1146</td>\n",
       "      <td>1146</td>\n",
       "      <td>1013</td>\n",
       "      <td>1146</td>\n",
       "      <td>1146</td>\n",
       "      <td>1146</td>\n",
       "      <td>1146</td>\n",
       "      <td>1146</td>\n",
       "      <td>1146</td>\n",
       "      <td>1146</td>\n",
       "      <td>...</td>\n",
       "      <td>711</td>\n",
       "      <td>1433</td>\n",
       "      <td>1433</td>\n",
       "      <td>1430</td>\n",
       "      <td>1433</td>\n",
       "      <td>840</td>\n",
       "      <td>1433</td>\n",
       "      <td>851</td>\n",
       "      <td>1433</td>\n",
       "      <td>1433</td>\n",
       "    </tr>\n",
       "    <tr>\n",
       "      <th>unique</th>\n",
       "      <td>6</td>\n",
       "      <td>4</td>\n",
       "      <td>3</td>\n",
       "      <td>3</td>\n",
       "      <td>3</td>\n",
       "      <td>3</td>\n",
       "      <td>6</td>\n",
       "      <td>3</td>\n",
       "      <td>3</td>\n",
       "      <td>3</td>\n",
       "      <td>...</td>\n",
       "      <td>116</td>\n",
       "      <td>5</td>\n",
       "      <td>5</td>\n",
       "      <td>70</td>\n",
       "      <td>53</td>\n",
       "      <td>47</td>\n",
       "      <td>53</td>\n",
       "      <td>48</td>\n",
       "      <td>264</td>\n",
       "      <td>3</td>\n",
       "    </tr>\n",
       "    <tr>\n",
       "      <th>top</th>\n",
       "      <td>26-100</td>\n",
       "      <td>Yes</td>\n",
       "      <td>No</td>\n",
       "      <td>No</td>\n",
       "      <td>No</td>\n",
       "      <td>I don't know</td>\n",
       "      <td>Somewhat easy</td>\n",
       "      <td>Maybe</td>\n",
       "      <td>No</td>\n",
       "      <td>Maybe</td>\n",
       "      <td>...</td>\n",
       "      <td>Mood Disorder (Depression, Bipolar Disorder, etc)</td>\n",
       "      <td>Not applicable to me</td>\n",
       "      <td>Often</td>\n",
       "      <td>Male</td>\n",
       "      <td>United States of America</td>\n",
       "      <td>California</td>\n",
       "      <td>United States of America</td>\n",
       "      <td>California</td>\n",
       "      <td>Back-end Developer</td>\n",
       "      <td>Sometimes</td>\n",
       "    </tr>\n",
       "    <tr>\n",
       "      <th>freq</th>\n",
       "      <td>292</td>\n",
       "      <td>531</td>\n",
       "      <td>354</td>\n",
       "      <td>813</td>\n",
       "      <td>531</td>\n",
       "      <td>742</td>\n",
       "      <td>281</td>\n",
       "      <td>487</td>\n",
       "      <td>837</td>\n",
       "      <td>479</td>\n",
       "      <td>...</td>\n",
       "      <td>187</td>\n",
       "      <td>557</td>\n",
       "      <td>538</td>\n",
       "      <td>610</td>\n",
       "      <td>840</td>\n",
       "      <td>130</td>\n",
       "      <td>851</td>\n",
       "      <td>141</td>\n",
       "      <td>263</td>\n",
       "      <td>757</td>\n",
       "    </tr>\n",
       "  </tbody>\n",
       "</table>\n",
       "<p>4 rows × 56 columns</p>\n",
       "</div>"
      ],
      "text/plain": [
       "       How many employees does your company or organization have?  \\\n",
       "count                                                1146           \n",
       "unique                                                  6           \n",
       "top                                                26-100           \n",
       "freq                                                  292           \n",
       "\n",
       "       Does your employer provide mental health benefits as part of healthcare coverage?  \\\n",
       "count                                                1146                                  \n",
       "unique                                                  4                                  \n",
       "top                                                   Yes                                  \n",
       "freq                                                  531                                  \n",
       "\n",
       "       Do you know the options for mental health care available under your employer-provided coverage?  \\\n",
       "count                                                1013                                                \n",
       "unique                                                  3                                                \n",
       "top                                                    No                                                \n",
       "freq                                                  354                                                \n",
       "\n",
       "       Has your employer ever formally discussed mental health (for example, as part of a wellness campaign or other official communication)?  \\\n",
       "count                                                1146                                                                                       \n",
       "unique                                                  3                                                                                       \n",
       "top                                                    No                                                                                       \n",
       "freq                                                  813                                                                                       \n",
       "\n",
       "       Does your employer offer resources to learn more about mental health concerns and options for seeking help?  \\\n",
       "count                                                1146                                                            \n",
       "unique                                                  3                                                            \n",
       "top                                                    No                                                            \n",
       "freq                                                  531                                                            \n",
       "\n",
       "       Is your anonymity protected if you choose to take advantage of mental health or substance abuse treatment resources provided by your employer?  \\\n",
       "count                                                1146                                                                                               \n",
       "unique                                                  3                                                                                               \n",
       "top                                          I don't know                                                                                               \n",
       "freq                                                  742                                                                                               \n",
       "\n",
       "       If a mental health issue prompted you to request a medical leave from work, asking for that leave would be:  \\\n",
       "count                                                1146                                                            \n",
       "unique                                                  6                                                            \n",
       "top                                         Somewhat easy                                                            \n",
       "freq                                                  281                                                            \n",
       "\n",
       "       Do you think that discussing a mental health disorder with your employer would have negative consequences?  \\\n",
       "count                                                1146                                                           \n",
       "unique                                                  3                                                           \n",
       "top                                                 Maybe                                                           \n",
       "freq                                                  487                                                           \n",
       "\n",
       "       Do you think that discussing a physical health issue with your employer would have negative consequences?  \\\n",
       "count                                                1146                                                          \n",
       "unique                                                  3                                                          \n",
       "top                                                    No                                                          \n",
       "freq                                                  837                                                          \n",
       "\n",
       "       Would you feel comfortable discussing a mental health disorder with your coworkers?  \\\n",
       "count                                                1146                                    \n",
       "unique                                                  3                                    \n",
       "top                                                 Maybe                                    \n",
       "freq                                                  479                                    \n",
       "\n",
       "        ...  If so, what condition(s) were you diagnosed with?  \\\n",
       "count   ...                                                711   \n",
       "unique  ...                                                116   \n",
       "top     ...  Mood Disorder (Depression, Bipolar Disorder, etc)   \n",
       "freq    ...                                                187   \n",
       "\n",
       "       If you have a mental health issue, do you feel that it interferes with your work when being treated effectively?  \\\n",
       "count                                                1433                                                                 \n",
       "unique                                                  5                                                                 \n",
       "top                                  Not applicable to me                                                                 \n",
       "freq                                                  557                                                                 \n",
       "\n",
       "       If you have a mental health issue, do you feel that it interferes with your work when NOT being treated effectively?  \\\n",
       "count                                                1433                                                                     \n",
       "unique                                                  5                                                                     \n",
       "top                                                 Often                                                                     \n",
       "freq                                                  538                                                                     \n",
       "\n",
       "       What is your gender? What country do you live in?  \\\n",
       "count                  1430                         1433   \n",
       "unique                   70                           53   \n",
       "top                    Male     United States of America   \n",
       "freq                    610                          840   \n",
       "\n",
       "       What US state or territory do you live in?  \\\n",
       "count                                         840   \n",
       "unique                                         47   \n",
       "top                                    California   \n",
       "freq                                          130   \n",
       "\n",
       "       What country do you work in?  \\\n",
       "count                          1433   \n",
       "unique                           53   \n",
       "top        United States of America   \n",
       "freq                            851   \n",
       "\n",
       "       What US state or territory do you work in?  \\\n",
       "count                                         851   \n",
       "unique                                         48   \n",
       "top                                    California   \n",
       "freq                                          141   \n",
       "\n",
       "       Which of the following best describes your work position?  \\\n",
       "count                                                1433          \n",
       "unique                                                264          \n",
       "top                                    Back-end Developer          \n",
       "freq                                                  263          \n",
       "\n",
       "       Do you work remotely?  \n",
       "count                   1433  \n",
       "unique                     3  \n",
       "top                Sometimes  \n",
       "freq                     757  \n",
       "\n",
       "[4 rows x 56 columns]"
      ]
     },
     "execution_count": 3,
     "metadata": {},
     "output_type": "execute_result"
    }
   ],
   "source": [
    "df.describe(include = ['O'])"
   ]
  },
  {
   "cell_type": "markdown",
   "id": "3f9231bd-6310-4e37-91c0-d493809f9cd6",
   "metadata": {},
   "source": [
    "## 2-3. **Data Cleaning**\n",
    "### 2-3-1. **Count null values, and choose features to be deleted/imputed**\n",
    "It looks there are lots of null values in some of the columns."
   ]
  },
  {
   "cell_type": "code",
   "execution_count": 4,
   "id": "466208a8-53b9-4896-a05f-5747e6d97055",
   "metadata": {
    "tags": []
   },
   "outputs": [
    {
     "name": "stdout",
     "output_type": "stream",
     "text": [
      "DEL How many employees does your company or organization have? 287 0\n",
      "DEL Is your employer primarily a tech company/organization? 287 0\n",
      "DEL Is your primary role within your company related to tech/IT? 1170 0\n",
      "DEL Does your employer provide mental health benefits as part of healthcare coverage? 287 0\n",
      "DEL Do you know the options for mental health care available under your employer-provided coverage? 420 0\n",
      "DEL Has your employer ever formally discussed mental health (for example, as part of a wellness campaign or other official communication)? 287 0\n",
      "DEL Does your employer offer resources to learn more about mental health concerns and options for seeking help? 287 0\n",
      "DEL Is your anonymity protected if you choose to take advantage of mental health or substance abuse treatment resources provided by your employer? 287 0\n",
      "DEL If a mental health issue prompted you to request a medical leave from work, asking for that leave would be: 287 0\n",
      "DEL Do you think that discussing a mental health disorder with your employer would have negative consequences? 287 0\n",
      "DEL Do you think that discussing a physical health issue with your employer would have negative consequences? 287 0\n",
      "DEL Would you feel comfortable discussing a mental health disorder with your coworkers? 287 0\n",
      "DEL Would you feel comfortable discussing a mental health disorder with your direct supervisor(s)? 287 0\n",
      "DEL Do you feel that your employer takes mental health as seriously as physical health? 287 0\n",
      "DEL Have you heard of or observed negative consequences for co-workers who have been open about mental health issues in your workplace? 287 0\n",
      "DEL Do you have medical coverage (private insurance or state-provided) which includes treatment of  mental health issues? 1146 0\n",
      "DEL Do you know local or online resources to seek help for a mental health disorder? 1146 0\n",
      "DEL If you have been diagnosed or treated for a mental health disorder, do you ever reveal this to clients or business contacts? 1146 0\n",
      "DEL If you have revealed a mental health issue to a client or business contact, do you believe this has impacted you negatively? 1289 0\n",
      "DEL If you have been diagnosed or treated for a mental health disorder, do you ever reveal this to coworkers or employees? 1146 0\n",
      "DEL If you have revealed a mental health issue to a coworker or employee, do you believe this has impacted you negatively? 1146 0\n",
      "DEL Do you believe your productivity is ever affected by a mental health issue? 1146 0\n",
      "DEL If yes, what percentage of your work time (time performing primary or secondary job functions) is affected by a mental health issue? 1229 0\n",
      "DEL Have your previous employers provided mental health benefits? 169 0\n",
      "DEL Were you aware of the options for mental health care provided by your previous employers? 169 0\n",
      "DEL Did your previous employers ever formally discuss mental health (as part of a wellness campaign or other official communication)? 169 0\n",
      "DEL Did your previous employers provide resources to learn more about mental health issues and how to seek help? 169 0\n",
      "DEL Was your anonymity protected if you chose to take advantage of mental health or substance abuse treatment resources with previous employers? 169 0\n",
      "DEL Do you think that discussing a mental health disorder with previous employers would have negative consequences? 169 0\n",
      "DEL Do you think that discussing a physical health issue with previous employers would have negative consequences? 169 0\n",
      "DEL Would you have been willing to discuss a mental health issue with your previous co-workers? 169 0\n",
      "DEL Would you have been willing to discuss a mental health issue with your direct supervisor(s)? 169 0\n",
      "DEL Did you feel that your previous employers took mental health as seriously as physical health? 169 0\n",
      "DEL Did you hear of or observe negative consequences for co-workers with mental health issues in your previous workplaces? 169 0\n",
      "DEL Why or why not? 338 2\n",
      "DEL Why or why not?.1 307 0\n",
      "IMP Have you observed or experienced an unsupportive or badly handled response to a mental health issue in your current or previous workplace? 89 0\n",
      "DEL Have your observations of how another individual who discussed a mental health disorder made you less likely to reveal a mental health issue yourself in your current workplace? 776 0\n",
      "DEL If yes, what condition(s) have you been diagnosed with? 865 0\n",
      "DEL If maybe, what condition(s) do you believe you have? 1111 0\n",
      "DEL If so, what condition(s) were you diagnosed with? 722 0\n",
      "IMP What is your gender? 3 0\n",
      "DEL What US state or territory do you live in? 593 0\n",
      "DEL What US state or territory do you work in? 582 0\n",
      "42\n",
      "2\n"
     ]
    }
   ],
   "source": [
    "a = [np.nan, None, [], {}, 'NaN', 'Null','NULL','None','NA','?','-', '.','', ' ', '   ']\n",
    "features_to_be_deleted = []\n",
    "features_to_be_imputed = []\n",
    "\n",
    "for c in df.columns:\n",
    "    string_null = np.array([x in a[2:] for x in df[c]])    \n",
    "    num_nulls = df[c].isnull().sum() + string_null.sum()\n",
    "    if num_nulls > 150:\n",
    "        features_to_be_deleted.append(c)\n",
    "        print(\"DEL\", c, df[c].isnull().sum(), string_null.sum())\n",
    "    if num_nulls > 0 and num_nulls < 150:\n",
    "        features_to_be_imputed.append(c)\n",
    "        print(\"IMP\", c, df[c].isnull().sum(), string_null.sum())\n",
    "\n",
    "\n",
    "print(len(features_to_be_deleted))\n",
    "print(len(features_to_be_imputed))"
   ]
  },
  {
   "cell_type": "markdown",
   "id": "776979b6-8ed5-4f90-b85f-245adab2e290",
   "metadata": {},
   "source": [
    "### 2-3-2. **Drop data with too much NULLs**\n",
    "After removal, we can see data with fewer columns.\n",
    "\n",
    "As you can see, values are mostly composed of answer for the given question."
   ]
  },
  {
   "cell_type": "code",
   "execution_count": 5,
   "id": "7413c910-5f53-4eb6-b040-a228a6867746",
   "metadata": {
    "tags": []
   },
   "outputs": [
    {
     "data": {
      "text/html": [
       "<div>\n",
       "<style scoped>\n",
       "    .dataframe tbody tr th:only-of-type {\n",
       "        vertical-align: middle;\n",
       "    }\n",
       "\n",
       "    .dataframe tbody tr th {\n",
       "        vertical-align: top;\n",
       "    }\n",
       "\n",
       "    .dataframe thead th {\n",
       "        text-align: right;\n",
       "    }\n",
       "</style>\n",
       "<table border=\"1\" class=\"dataframe\">\n",
       "  <thead>\n",
       "    <tr style=\"text-align: right;\">\n",
       "      <th></th>\n",
       "      <th>Are you self-employed?</th>\n",
       "      <th>Do you have previous employers?</th>\n",
       "      <th>Would you be willing to bring up a physical health issue with a potential employer in an interview?</th>\n",
       "      <th>Would you bring up a mental health issue with a potential employer in an interview?</th>\n",
       "      <th>Do you feel that being identified as a person with a mental health issue would hurt your career?</th>\n",
       "      <th>Do you think that team members/co-workers would view you more negatively if they knew you suffered from a mental health issue?</th>\n",
       "      <th>How willing would you be to share with friends and family that you have a mental illness?</th>\n",
       "      <th>Have you observed or experienced an unsupportive or badly handled response to a mental health issue in your current or previous workplace?</th>\n",
       "      <th>Do you have a family history of mental illness?</th>\n",
       "      <th>Have you had a mental health disorder in the past?</th>\n",
       "      <th>...</th>\n",
       "      <th>Have you been diagnosed with a mental health condition by a medical professional?</th>\n",
       "      <th>Have you ever sought treatment for a mental health issue from a mental health professional?</th>\n",
       "      <th>If you have a mental health issue, do you feel that it interferes with your work when being treated effectively?</th>\n",
       "      <th>If you have a mental health issue, do you feel that it interferes with your work when NOT being treated effectively?</th>\n",
       "      <th>What is your age?</th>\n",
       "      <th>What is your gender?</th>\n",
       "      <th>What country do you live in?</th>\n",
       "      <th>What country do you work in?</th>\n",
       "      <th>Which of the following best describes your work position?</th>\n",
       "      <th>Do you work remotely?</th>\n",
       "    </tr>\n",
       "  </thead>\n",
       "  <tbody>\n",
       "    <tr>\n",
       "      <th>0</th>\n",
       "      <td>0</td>\n",
       "      <td>1</td>\n",
       "      <td>Maybe</td>\n",
       "      <td>Maybe</td>\n",
       "      <td>Maybe</td>\n",
       "      <td>No, I don't think they would</td>\n",
       "      <td>Somewhat open</td>\n",
       "      <td>No</td>\n",
       "      <td>No</td>\n",
       "      <td>Yes</td>\n",
       "      <td>...</td>\n",
       "      <td>Yes</td>\n",
       "      <td>0</td>\n",
       "      <td>Not applicable to me</td>\n",
       "      <td>Not applicable to me</td>\n",
       "      <td>39</td>\n",
       "      <td>Male</td>\n",
       "      <td>United Kingdom</td>\n",
       "      <td>United Kingdom</td>\n",
       "      <td>Back-end Developer</td>\n",
       "      <td>Sometimes</td>\n",
       "    </tr>\n",
       "    <tr>\n",
       "      <th>1</th>\n",
       "      <td>0</td>\n",
       "      <td>1</td>\n",
       "      <td>Maybe</td>\n",
       "      <td>No</td>\n",
       "      <td>No, I don't think it would</td>\n",
       "      <td>No, I don't think they would</td>\n",
       "      <td>Somewhat open</td>\n",
       "      <td>No</td>\n",
       "      <td>Yes</td>\n",
       "      <td>Yes</td>\n",
       "      <td>...</td>\n",
       "      <td>Yes</td>\n",
       "      <td>1</td>\n",
       "      <td>Rarely</td>\n",
       "      <td>Sometimes</td>\n",
       "      <td>29</td>\n",
       "      <td>male</td>\n",
       "      <td>United States of America</td>\n",
       "      <td>United States of America</td>\n",
       "      <td>Back-end Developer|Front-end Developer</td>\n",
       "      <td>Never</td>\n",
       "    </tr>\n",
       "    <tr>\n",
       "      <th>2</th>\n",
       "      <td>0</td>\n",
       "      <td>1</td>\n",
       "      <td>Yes</td>\n",
       "      <td>Yes</td>\n",
       "      <td>Maybe</td>\n",
       "      <td>Maybe</td>\n",
       "      <td>Somewhat open</td>\n",
       "      <td>Maybe/Not sure</td>\n",
       "      <td>No</td>\n",
       "      <td>Maybe</td>\n",
       "      <td>...</td>\n",
       "      <td>No</td>\n",
       "      <td>1</td>\n",
       "      <td>Not applicable to me</td>\n",
       "      <td>Not applicable to me</td>\n",
       "      <td>38</td>\n",
       "      <td>Male</td>\n",
       "      <td>United Kingdom</td>\n",
       "      <td>United Kingdom</td>\n",
       "      <td>Back-end Developer</td>\n",
       "      <td>Always</td>\n",
       "    </tr>\n",
       "    <tr>\n",
       "      <th>3</th>\n",
       "      <td>1</td>\n",
       "      <td>1</td>\n",
       "      <td>Yes</td>\n",
       "      <td>Maybe</td>\n",
       "      <td>Yes, I think it would</td>\n",
       "      <td>Maybe</td>\n",
       "      <td>Neutral</td>\n",
       "      <td>No</td>\n",
       "      <td>No</td>\n",
       "      <td>Yes</td>\n",
       "      <td>...</td>\n",
       "      <td>Yes</td>\n",
       "      <td>1</td>\n",
       "      <td>Sometimes</td>\n",
       "      <td>Sometimes</td>\n",
       "      <td>43</td>\n",
       "      <td>male</td>\n",
       "      <td>United Kingdom</td>\n",
       "      <td>United Kingdom</td>\n",
       "      <td>Supervisor/Team Lead</td>\n",
       "      <td>Sometimes</td>\n",
       "    </tr>\n",
       "    <tr>\n",
       "      <th>4</th>\n",
       "      <td>0</td>\n",
       "      <td>1</td>\n",
       "      <td>Maybe</td>\n",
       "      <td>No</td>\n",
       "      <td>Yes, I think it would</td>\n",
       "      <td>Maybe</td>\n",
       "      <td>Somewhat open</td>\n",
       "      <td>Yes, I experienced</td>\n",
       "      <td>Yes</td>\n",
       "      <td>Yes</td>\n",
       "      <td>...</td>\n",
       "      <td>Yes</td>\n",
       "      <td>1</td>\n",
       "      <td>Sometimes</td>\n",
       "      <td>Sometimes</td>\n",
       "      <td>43</td>\n",
       "      <td>Female</td>\n",
       "      <td>United States of America</td>\n",
       "      <td>United States of America</td>\n",
       "      <td>Executive Leadership|Supervisor/Team Lead|Dev ...</td>\n",
       "      <td>Sometimes</td>\n",
       "    </tr>\n",
       "  </tbody>\n",
       "</table>\n",
       "<p>5 rows × 21 columns</p>\n",
       "</div>"
      ],
      "text/plain": [
       "   Are you self-employed?  Do you have previous employers?  \\\n",
       "0                       0                                1   \n",
       "1                       0                                1   \n",
       "2                       0                                1   \n",
       "3                       1                                1   \n",
       "4                       0                                1   \n",
       "\n",
       "  Would you be willing to bring up a physical health issue with a potential employer in an interview?  \\\n",
       "0                                              Maybe                                                    \n",
       "1                                              Maybe                                                    \n",
       "2                                                Yes                                                    \n",
       "3                                                Yes                                                    \n",
       "4                                              Maybe                                                    \n",
       "\n",
       "  Would you bring up a mental health issue with a potential employer in an interview?  \\\n",
       "0                                              Maybe                                    \n",
       "1                                                 No                                    \n",
       "2                                                Yes                                    \n",
       "3                                              Maybe                                    \n",
       "4                                                 No                                    \n",
       "\n",
       "  Do you feel that being identified as a person with a mental health issue would hurt your career?  \\\n",
       "0                                              Maybe                                                 \n",
       "1                         No, I don't think it would                                                 \n",
       "2                                              Maybe                                                 \n",
       "3                              Yes, I think it would                                                 \n",
       "4                              Yes, I think it would                                                 \n",
       "\n",
       "  Do you think that team members/co-workers would view you more negatively if they knew you suffered from a mental health issue?  \\\n",
       "0                       No, I don't think they would                                                                               \n",
       "1                       No, I don't think they would                                                                               \n",
       "2                                              Maybe                                                                               \n",
       "3                                              Maybe                                                                               \n",
       "4                                              Maybe                                                                               \n",
       "\n",
       "  How willing would you be to share with friends and family that you have a mental illness?  \\\n",
       "0                                      Somewhat open                                          \n",
       "1                                      Somewhat open                                          \n",
       "2                                      Somewhat open                                          \n",
       "3                                            Neutral                                          \n",
       "4                                      Somewhat open                                          \n",
       "\n",
       "  Have you observed or experienced an unsupportive or badly handled response to a mental health issue in your current or previous workplace?  \\\n",
       "0                                                 No                                                                                           \n",
       "1                                                 No                                                                                           \n",
       "2                                     Maybe/Not sure                                                                                           \n",
       "3                                                 No                                                                                           \n",
       "4                                 Yes, I experienced                                                                                           \n",
       "\n",
       "  Do you have a family history of mental illness?  \\\n",
       "0                                              No   \n",
       "1                                             Yes   \n",
       "2                                              No   \n",
       "3                                              No   \n",
       "4                                             Yes   \n",
       "\n",
       "  Have you had a mental health disorder in the past?  ...  \\\n",
       "0                                                Yes  ...   \n",
       "1                                                Yes  ...   \n",
       "2                                              Maybe  ...   \n",
       "3                                                Yes  ...   \n",
       "4                                                Yes  ...   \n",
       "\n",
       "  Have you been diagnosed with a mental health condition by a medical professional?  \\\n",
       "0                                                Yes                                  \n",
       "1                                                Yes                                  \n",
       "2                                                 No                                  \n",
       "3                                                Yes                                  \n",
       "4                                                Yes                                  \n",
       "\n",
       "  Have you ever sought treatment for a mental health issue from a mental health professional?  \\\n",
       "0                                                  0                                            \n",
       "1                                                  1                                            \n",
       "2                                                  1                                            \n",
       "3                                                  1                                            \n",
       "4                                                  1                                            \n",
       "\n",
       "   If you have a mental health issue, do you feel that it interferes with your work when being treated effectively?  \\\n",
       "0                               Not applicable to me                                                                  \n",
       "1                                             Rarely                                                                  \n",
       "2                               Not applicable to me                                                                  \n",
       "3                                          Sometimes                                                                  \n",
       "4                                          Sometimes                                                                  \n",
       "\n",
       "  If you have a mental health issue, do you feel that it interferes with your work when NOT being treated effectively?  \\\n",
       "0                               Not applicable to me                                                                     \n",
       "1                                          Sometimes                                                                     \n",
       "2                               Not applicable to me                                                                     \n",
       "3                                          Sometimes                                                                     \n",
       "4                                          Sometimes                                                                     \n",
       "\n",
       "  What is your age?  What is your gender? What country do you live in?  \\\n",
       "0                39                  Male               United Kingdom   \n",
       "1                29                  male     United States of America   \n",
       "2                38                 Male                United Kingdom   \n",
       "3                43                  male               United Kingdom   \n",
       "4                43                Female     United States of America   \n",
       "\n",
       "  What country do you work in?  \\\n",
       "0               United Kingdom   \n",
       "1     United States of America   \n",
       "2               United Kingdom   \n",
       "3               United Kingdom   \n",
       "4     United States of America   \n",
       "\n",
       "  Which of the following best describes your work position?  \\\n",
       "0                                 Back-end Developer          \n",
       "1             Back-end Developer|Front-end Developer          \n",
       "2                                 Back-end Developer          \n",
       "3                               Supervisor/Team Lead          \n",
       "4  Executive Leadership|Supervisor/Team Lead|Dev ...          \n",
       "\n",
       "  Do you work remotely?  \n",
       "0             Sometimes  \n",
       "1                 Never  \n",
       "2                Always  \n",
       "3             Sometimes  \n",
       "4             Sometimes  \n",
       "\n",
       "[5 rows x 21 columns]"
      ]
     },
     "execution_count": 5,
     "metadata": {},
     "output_type": "execute_result"
    }
   ],
   "source": [
    "# drop columns with too many nulls\n",
    "df_ = df.drop(features_to_be_deleted, axis=1)\n",
    "\n",
    "# impute columns with relatively few nulls\n",
    "for c in features_to_be_imputed:\n",
    "    if df_[c].dtype == object:\n",
    "        df_[c].fillna(df_[c].mode().iloc[-1], inplace=True)\n",
    "\n",
    "df_.head()"
   ]
  },
  {
   "cell_type": "markdown",
   "id": "beb2a5f6-031d-4be1-922d-f28f50a5f6c4",
   "metadata": {},
   "source": [
    "### 2-3-3. **Delete Data with too much variation**\n",
    "Categorical data with too many variation lead to overfitting as the data size is limited."
   ]
  },
  {
   "cell_type": "code",
   "execution_count": 6,
   "id": "44ecac62-67f3-4db7-b9a3-8b080ce19837",
   "metadata": {
    "tags": []
   },
   "outputs": [
    {
     "data": {
      "text/plain": [
       "Would you be willing to bring up a physical health issue with a potential employer in an interview?                                             3\n",
       "Would you bring up a mental health issue with a potential employer in an interview?                                                             3\n",
       "Do you feel that being identified as a person with a mental health issue would hurt your career?                                                5\n",
       "Do you think that team members/co-workers would view you more negatively if they knew you suffered from a mental health issue?                  5\n",
       "How willing would you be to share with friends and family that you have a mental illness?                                                       6\n",
       "Have you observed or experienced an unsupportive or badly handled response to a mental health issue in your current or previous workplace?      4\n",
       "Do you have a family history of mental illness?                                                                                                 3\n",
       "Have you had a mental health disorder in the past?                                                                                              3\n",
       "Do you currently have a mental health disorder?                                                                                                 3\n",
       "Have you been diagnosed with a mental health condition by a medical professional?                                                               2\n",
       "If you have a mental health issue, do you feel that it interferes with your work when being treated effectively?                                5\n",
       "If you have a mental health issue, do you feel that it interferes with your work when NOT being treated effectively?                            5\n",
       "What is your gender?                                                                                                                           70\n",
       "What country do you live in?                                                                                                                   53\n",
       "What country do you work in?                                                                                                                   53\n",
       "Which of the following best describes your work position?                                                                                     264\n",
       "Do you work remotely?                                                                                                                           3\n",
       "Name: unique, dtype: object"
      ]
     },
     "execution_count": 6,
     "metadata": {},
     "output_type": "execute_result"
    }
   ],
   "source": [
    "df_.describe(include = ['O']).loc['unique']"
   ]
  },
  {
   "cell_type": "markdown",
   "id": "912dcbed-ad79-4a08-b670-365e718ecc8c",
   "metadata": {},
   "source": [
    "### 2-3-4. **Wait... gender??**\n",
    "Gender type looks too many variations. Let's see how it is like...\n",
    "\n",
    "We need to tweak this column a bit. This time, I'll only use Male/Female as the trend from too few gender cannot be captured from this dataset size."
   ]
  },
  {
   "cell_type": "code",
   "execution_count": 7,
   "id": "c121a858-ec16-4bd6-b25e-76b12f7e9b8a",
   "metadata": {
    "tags": []
   },
   "outputs": [
    {
     "data": {
      "text/plain": [
       "What is your gender?\n",
       " Female                                                                                                                                                            1\n",
       "Male/genderqueer                                                                                                                                                   1\n",
       "none of your business                                                                                                                                              1\n",
       "M|                                                                                                                                                                 1\n",
       "Other                                                                                                                                                              1\n",
       "Other/Transfeminine                                                                                                                                                1\n",
       "Queer                                                                                                                                                              1\n",
       "Sex is male                                                                                                                                                        1\n",
       "Transgender woman                                                                                                                                                  1\n",
       "Transitioned, M2F                                                                                                                                                  1\n",
       "Unicorn                                                                                                                                                            1\n",
       "cis male                                                                                                                                                           1\n",
       "Male.                                                                                                                                                              1\n",
       "cis man                                                                                                                                                            1\n",
       "fem                                                                                                                                                                1\n",
       "female-bodied; no feelings about gender                                                                                                                            1\n",
       "female/woman                                                                                                                                                       1\n",
       "fm                                                                                                                                                                 1\n",
       "genderqueer                                                                                                                                                        1\n",
       "genderqueer woman                                                                                                                                                  1\n",
       "human                                                                                                                                                              1\n",
       "mail                                                                                                                                                               1\n",
       "male 9:1 female, roughly                                                                                                                                           1\n",
       "mtf                                                                                                                                                                1\n",
       "nb masculine                                                                                                                                                       1\n",
       "cisdude                                                                                                                                                            1\n",
       "Male (trans, FtM)                                                                                                                                                  1\n",
       "Malr                                                                                                                                                               1\n",
       "Fluid                                                                                                                                                              1\n",
       "Dude                                                                                                                                                               1\n",
       "Cis male                                                                                                                                                           1\n",
       "Enby                                                                                                                                                               1\n",
       "Cis female                                                                                                                                                         1\n",
       "MALE                                                                                                                                                               1\n",
       "AFAB                                                                                                                                                               1\n",
       "Cis Male                                                                                                                                                           1\n",
       "Androgynous                                                                                                                                                        1\n",
       "Female (props for making this a freeform field, though)                                                                                                            1\n",
       "Female assigned at birth                                                                                                                                           1\n",
       "Female or Multi-Gender Femme                                                                                                                                       1\n",
       "Cisgender Female                                                                                                                                                   1\n",
       "Cis-woman                                                                                                                                                          1\n",
       "Genderfluid (born female)                                                                                                                                          1\n",
       "Genderflux demi-girl                                                                                                                                               1\n",
       "Genderqueer                                                                                                                                                        1\n",
       "Human                                                                                                                                                              1\n",
       "I identify as female.                                                                                                                                              1\n",
       "I'm a man why didn't you make this a drop down question. You should of asked sex? And I would of answered yes please. Seriously how much text can this take?       1\n",
       "Bigender                                                                                                                                                           1\n",
       "Genderfluid                                                                                                                                                        1\n",
       "Nonbinary                                                                                                                                                          2\n",
       "Man                                                                                                                                                                2\n",
       "Agender                                                                                                                                                            2\n",
       "Male (cis)                                                                                                                                                         2\n",
       "male                                                                                                                                                               2\n",
       "man                                                                                                                                                                3\n",
       "Woman                                                                                                                                                              3\n",
       "female                                                                                                                                                             3\n",
       "non-binary                                                                                                                                                         4\n",
       "woman                                                                                                                                                              4\n",
       "Female                                                                                                                                                             9\n",
       "Male                                                                                                                                                              11\n",
       "f                                                                                                                                                                 23\n",
       "F                                                                                                                                                                 38\n",
       "m                                                                                                                                                                 79\n",
       "M                                                                                                                                                                 86\n",
       "female                                                                                                                                                            95\n",
       "Female                                                                                                                                                           153\n",
       "male                                                                                                                                                             249\n",
       "Male                                                                                                                                                             613\n",
       "Name: What is your gender?, dtype: int64"
      ]
     },
     "execution_count": 7,
     "metadata": {},
     "output_type": "execute_result"
    }
   ],
   "source": [
    "# see why there are so many gender types\n",
    "pd.set_option('display.max_rows', None)\n",
    "df_.groupby('What is your gender?')['What is your gender?'].count().sort_values()"
   ]
  },
  {
   "cell_type": "code",
   "execution_count": 8,
   "id": "ce85f54c-c7f3-417b-8c79-05c6791f7f62",
   "metadata": {
    "tags": []
   },
   "outputs": [],
   "source": [
    "import re\n",
    "\n",
    "# man/woman related words will be converted to M/F\n",
    "df_ = df_.replace({'What is your gender?': r'(?i)^\\s*male\\s*'}, {'What is your gender?': r'M'}, regex=True). \\\n",
    "    replace({'What is your gender?': r'(?i)^\\s*man\\s*$'}, {'What is your gender?': r'M'}, regex=True). \\\n",
    "    replace({'What is your gender?': r'(?i)^\\s*m\\s*$'}, {'What is your gender?': r'M'}, regex=True). \\\n",
    "    replace({'What is your gender?': r'(?i)^\\s*female\\s*'}, {'What is your gender?': r'F'}, regex=True). \\\n",
    "    replace({'What is your gender?': r'(?i)^\\s*woman\\s*'}, {'What is your gender?': r'F'}, regex=True). \\\n",
    "    replace({'What is your gender?': r'(?i)^\\s*f\\s*'}, {'What is your gender?': r'F'}, regex=True)\n",
    "\n",
    "# drop gender other than M/F to avoid overfitting\n",
    "counts = df_.groupby('What is your gender?')['What is your gender?'].count()\n",
    "rows_omitted = []\n",
    "for c in counts.sort_values().items():\n",
    "    if c[1] < 5:\n",
    "        rows_omitted.append(c[0])\n",
    "rows_omitted\n",
    "df_ = df_[~df_['What is your gender?'].isin(rows_omitted)]"
   ]
  },
  {
   "cell_type": "markdown",
   "id": "345b06cb-cd1f-4a58-9175-5074bf0398d9",
   "metadata": {},
   "source": [
    "### 2-3-5. **Delete Data with too much variation (again)**\n",
    "If there are too many variation, it may lead to overfitting as the data size is limited."
   ]
  },
  {
   "cell_type": "code",
   "execution_count": 9,
   "id": "583c6655-60ca-4fd3-aacb-4a56f82794b1",
   "metadata": {
    "tags": []
   },
   "outputs": [
    {
     "data": {
      "text/plain": [
       "['What country do you live in?',\n",
       " 'What country do you work in?',\n",
       " 'Which of the following best describes your work position?']"
      ]
     },
     "execution_count": 9,
     "metadata": {},
     "output_type": "execute_result"
    }
   ],
   "source": [
    "# Check if there are too many variations in the categorical data.\n",
    "# Then remove from dataste if the variation exceeds 50\n",
    "columns_to_be_deleted = []\n",
    "for c in df_.describe(include = ['O']).loc['unique'].items():\n",
    "    if c[1] > 50:\n",
    "        columns_to_be_deleted.append(c[0])\n",
    "\n",
    "columns_to_be_deleted"
   ]
  },
  {
   "cell_type": "code",
   "execution_count": 10,
   "id": "f2337923-46c6-4de1-9bc0-625f1a7e8965",
   "metadata": {
    "tags": []
   },
   "outputs": [
    {
     "data": {
      "text/plain": [
       "(1375, 18)"
      ]
     },
     "execution_count": 10,
     "metadata": {},
     "output_type": "execute_result"
    }
   ],
   "source": [
    "df__ = df_.drop(columns_to_be_deleted, axis=1)\n",
    "df__.shape"
   ]
  },
  {
   "cell_type": "markdown",
   "id": "98471dfe-78fb-49f9-b6e4-5b002be069f7",
   "metadata": {},
   "source": [
    "### 2-3-6. **See erroneous input in age and remove outlier**\n",
    "We can see there is appraently fake age had been input (323 years old??). We need to limit them to reasonable range.\n",
    "\n",
    "As a result, 4 data are excluded from dataset."
   ]
  },
  {
   "cell_type": "code",
   "execution_count": 11,
   "id": "2359069c-f21a-4aa8-a5ae-2c89b2aca6bb",
   "metadata": {
    "tags": []
   },
   "outputs": [
    {
     "name": "stdout",
     "output_type": "stream",
     "text": [
      "3 323\n"
     ]
    },
    {
     "data": {
      "image/png": "[encoded data removed]",
      "text/plain": [
       "<Figure size 432x288 with 1 Axes>"
      ]
     },
     "metadata": {
      "needs_background": "light"
     },
     "output_type": "display_data"
    }
   ],
   "source": [
    "# See the distribution of the age with boxplot\n",
    "print(df__['What is your age?'].min(), df__['What is your age?'].max())\n",
    "plt.boxplot(df__['What is your age?'])\n",
    "plt.show()"
   ]
  },
  {
   "cell_type": "code",
   "execution_count": 12,
   "id": "d08d6ca6-436d-4d2b-ae4c-c73bab9d5619",
   "metadata": {
    "tags": []
   },
   "outputs": [
    {
     "name": "stdout",
     "output_type": "stream",
     "text": [
      "(1372, 18)\n"
     ]
    }
   ],
   "source": [
    "# delete unreasonable data with age less than 15 years old / above 70 years ald\n",
    "df__ = df__[(df__['What is your age?'] >= 15) & (df__['What is your age?'] <= 70)]\n",
    "print(df__.shape)"
   ]
  },
  {
   "cell_type": "markdown",
   "id": "a9bad690-3c17-4abf-9192-bdcd069959da",
   "metadata": {
    "tags": []
   },
   "source": [
    "## 2-4 **EDA**\n",
    "### 2-4-1. **Quantify yes-no result**\n",
    "We can do one-hot encoding for categorical values, but in this dataset, most of the values are composed of Yes/No/Neutral. So we can change it to ordinal numbers.\n",
    "\n",
    "Mapping is based on my subjectives, but I think it doesn't violate original data so much."
   ]
  },
  {
   "cell_type": "code",
   "execution_count": 13,
   "id": "2167d27d-7351-464f-afb6-5be93ede2242",
   "metadata": {
    "tags": []
   },
   "outputs": [
    {
     "data": {
      "text/plain": [
       "{'Always',\n",
       " 'F',\n",
       " \"I don't know\",\n",
       " 'M',\n",
       " 'Maybe',\n",
       " 'Maybe/Not sure',\n",
       " 'Neutral',\n",
       " 'Never',\n",
       " 'No',\n",
       " \"No, I don't think it would\",\n",
       " \"No, I don't think they would\",\n",
       " 'No, it has not',\n",
       " 'No, they do not',\n",
       " 'Not applicable to me',\n",
       " 'Not applicable to me (I do not have a mental illness)',\n",
       " 'Not open at all',\n",
       " 'Often',\n",
       " 'Rarely',\n",
       " 'Sometimes',\n",
       " 'Somewhat not open',\n",
       " 'Somewhat open',\n",
       " 'Very open',\n",
       " 'Yes',\n",
       " 'Yes, I experienced',\n",
       " 'Yes, I observed',\n",
       " 'Yes, I think it would',\n",
       " 'Yes, I think they would',\n",
       " 'Yes, it has',\n",
       " 'Yes, they do'}"
      ]
     },
     "execution_count": 13,
     "metadata": {},
     "output_type": "execute_result"
    }
   ],
   "source": [
    "# Let's see what kind of expressions are used in the dataset\n",
    "categorical = []\n",
    "for column in df__:\n",
    "    if df__[column].dtype == 'object':\n",
    "        for v in df__[column].unique():\n",
    "            categorical.append(v)\n",
    "set(categorical)"
   ]
  },
  {
   "cell_type": "code",
   "execution_count": 14,
   "id": "a1707114-f992-4090-9b80-eceb4957b683",
   "metadata": {
    "tags": []
   },
   "outputs": [],
   "source": [
    "# Below is the map I've created.\n",
    "\n",
    "quantification_map = {\n",
    "                     'Always': 3,\n",
    "                     \"I don't know\": 1,\n",
    "                     'Maybe': 1,\n",
    "                     'Maybe/Not sure': 1,\n",
    "                     'Neutral': 1,\n",
    "                     'Never': 0,\n",
    "                     'No': 0,\n",
    "                     \"No, I don't think it would\": 0,\n",
    "                     \"No, I don't think they would\": 0,\n",
    "                     'No, it has not': 0,\n",
    "                     'No, they do not': 0,\n",
    "                     'Not applicable to me': 0,\n",
    "                     'Not applicable to me (I do not have a mental illness)': 0,\n",
    "                     'Not open at all': 0,\n",
    "                     'Often': 2,\n",
    "                     'Rarely': 1,\n",
    "                     'Sometimes': 2,\n",
    "                     'Somewhat not open': 2,\n",
    "                     'Somewhat open': 1,\n",
    "                     'Very open': 3,\n",
    "                     'Yes': 3,\n",
    "                     'Yes, I experienced': 3,\n",
    "                     'Yes, I observed': 3,\n",
    "                     'Yes, I think it would': 3,\n",
    "                     'Yes, I think they would': 3,\n",
    "                     'Yes, it has': 3,\n",
    "                     'Yes, they do': 3,\n",
    "                     'M': 1,\n",
    "                     'F': 0\n",
    "}"
   ]
  },
  {
   "cell_type": "code",
   "execution_count": 15,
   "id": "f6ee733c-fe7b-49d4-8b8a-11173eee811a",
   "metadata": {
    "tags": []
   },
   "outputs": [],
   "source": [
    "# Convert data with mapped values!\n",
    "df_quant = df__.copy()\n",
    "for column in df_quant:\n",
    "    if df_quant[column].dtype == 'object':\n",
    "        df_quant[column] = df_quant[column].map(quantification_map)"
   ]
  },
  {
   "cell_type": "markdown",
   "id": "8d46f1c3-23db-49f1-8da6-49d77aea3451",
   "metadata": {},
   "source": [
    "Let's see how the modiication changed the data "
   ]
  },
  {
   "cell_type": "code",
   "execution_count": 16,
   "id": "74d3fc7f-a8d9-4798-920f-a673da2bbff7",
   "metadata": {
    "tags": []
   },
   "outputs": [
    {
     "data": {
      "text/html": [
       "<div>\n",
       "<style scoped>\n",
       "    .dataframe tbody tr th:only-of-type {\n",
       "        vertical-align: middle;\n",
       "    }\n",
       "\n",
       "    .dataframe tbody tr th {\n",
       "        vertical-align: top;\n",
       "    }\n",
       "\n",
       "    .dataframe thead th {\n",
       "        text-align: right;\n",
       "    }\n",
       "</style>\n",
       "<table border=\"1\" class=\"dataframe\">\n",
       "  <thead>\n",
       "    <tr style=\"text-align: right;\">\n",
       "      <th></th>\n",
       "      <th>Are you self-employed?</th>\n",
       "      <th>Do you have previous employers?</th>\n",
       "      <th>Would you be willing to bring up a physical health issue with a potential employer in an interview?</th>\n",
       "      <th>Would you bring up a mental health issue with a potential employer in an interview?</th>\n",
       "      <th>Do you feel that being identified as a person with a mental health issue would hurt your career?</th>\n",
       "      <th>Do you think that team members/co-workers would view you more negatively if they knew you suffered from a mental health issue?</th>\n",
       "      <th>How willing would you be to share with friends and family that you have a mental illness?</th>\n",
       "      <th>Have you observed or experienced an unsupportive or badly handled response to a mental health issue in your current or previous workplace?</th>\n",
       "      <th>Do you have a family history of mental illness?</th>\n",
       "      <th>Have you had a mental health disorder in the past?</th>\n",
       "      <th>Do you currently have a mental health disorder?</th>\n",
       "      <th>Have you been diagnosed with a mental health condition by a medical professional?</th>\n",
       "      <th>Have you ever sought treatment for a mental health issue from a mental health professional?</th>\n",
       "      <th>If you have a mental health issue, do you feel that it interferes with your work when being treated effectively?</th>\n",
       "      <th>If you have a mental health issue, do you feel that it interferes with your work when NOT being treated effectively?</th>\n",
       "      <th>What is your age?</th>\n",
       "      <th>What is your gender?</th>\n",
       "      <th>Do you work remotely?</th>\n",
       "    </tr>\n",
       "  </thead>\n",
       "  <tbody>\n",
       "    <tr>\n",
       "      <th>0</th>\n",
       "      <td>0</td>\n",
       "      <td>1</td>\n",
       "      <td>1</td>\n",
       "      <td>1</td>\n",
       "      <td>1</td>\n",
       "      <td>0</td>\n",
       "      <td>1</td>\n",
       "      <td>0</td>\n",
       "      <td>0</td>\n",
       "      <td>3</td>\n",
       "      <td>0</td>\n",
       "      <td>3</td>\n",
       "      <td>0</td>\n",
       "      <td>0</td>\n",
       "      <td>0</td>\n",
       "      <td>39</td>\n",
       "      <td>1</td>\n",
       "      <td>2</td>\n",
       "    </tr>\n",
       "    <tr>\n",
       "      <th>1</th>\n",
       "      <td>0</td>\n",
       "      <td>1</td>\n",
       "      <td>1</td>\n",
       "      <td>0</td>\n",
       "      <td>0</td>\n",
       "      <td>0</td>\n",
       "      <td>1</td>\n",
       "      <td>0</td>\n",
       "      <td>3</td>\n",
       "      <td>3</td>\n",
       "      <td>3</td>\n",
       "      <td>3</td>\n",
       "      <td>1</td>\n",
       "      <td>1</td>\n",
       "      <td>2</td>\n",
       "      <td>29</td>\n",
       "      <td>1</td>\n",
       "      <td>0</td>\n",
       "    </tr>\n",
       "    <tr>\n",
       "      <th>2</th>\n",
       "      <td>0</td>\n",
       "      <td>1</td>\n",
       "      <td>3</td>\n",
       "      <td>3</td>\n",
       "      <td>1</td>\n",
       "      <td>1</td>\n",
       "      <td>1</td>\n",
       "      <td>1</td>\n",
       "      <td>0</td>\n",
       "      <td>1</td>\n",
       "      <td>0</td>\n",
       "      <td>0</td>\n",
       "      <td>1</td>\n",
       "      <td>0</td>\n",
       "      <td>0</td>\n",
       "      <td>38</td>\n",
       "      <td>1</td>\n",
       "      <td>3</td>\n",
       "    </tr>\n",
       "    <tr>\n",
       "      <th>3</th>\n",
       "      <td>1</td>\n",
       "      <td>1</td>\n",
       "      <td>3</td>\n",
       "      <td>1</td>\n",
       "      <td>3</td>\n",
       "      <td>1</td>\n",
       "      <td>1</td>\n",
       "      <td>0</td>\n",
       "      <td>0</td>\n",
       "      <td>3</td>\n",
       "      <td>3</td>\n",
       "      <td>3</td>\n",
       "      <td>1</td>\n",
       "      <td>2</td>\n",
       "      <td>2</td>\n",
       "      <td>43</td>\n",
       "      <td>1</td>\n",
       "      <td>2</td>\n",
       "    </tr>\n",
       "    <tr>\n",
       "      <th>4</th>\n",
       "      <td>0</td>\n",
       "      <td>1</td>\n",
       "      <td>1</td>\n",
       "      <td>0</td>\n",
       "      <td>3</td>\n",
       "      <td>1</td>\n",
       "      <td>1</td>\n",
       "      <td>3</td>\n",
       "      <td>3</td>\n",
       "      <td>3</td>\n",
       "      <td>3</td>\n",
       "      <td>3</td>\n",
       "      <td>1</td>\n",
       "      <td>2</td>\n",
       "      <td>2</td>\n",
       "      <td>43</td>\n",
       "      <td>0</td>\n",
       "      <td>2</td>\n",
       "    </tr>\n",
       "  </tbody>\n",
       "</table>\n",
       "</div>"
      ],
      "text/plain": [
       "   Are you self-employed?  Do you have previous employers?  \\\n",
       "0                       0                                1   \n",
       "1                       0                                1   \n",
       "2                       0                                1   \n",
       "3                       1                                1   \n",
       "4                       0                                1   \n",
       "\n",
       "   Would you be willing to bring up a physical health issue with a potential employer in an interview?  \\\n",
       "0                                                  1                                                     \n",
       "1                                                  1                                                     \n",
       "2                                                  3                                                     \n",
       "3                                                  3                                                     \n",
       "4                                                  1                                                     \n",
       "\n",
       "   Would you bring up a mental health issue with a potential employer in an interview?  \\\n",
       "0                                                  1                                     \n",
       "1                                                  0                                     \n",
       "2                                                  3                                     \n",
       "3                                                  1                                     \n",
       "4                                                  0                                     \n",
       "\n",
       "   Do you feel that being identified as a person with a mental health issue would hurt your career?  \\\n",
       "0                                                  1                                                  \n",
       "1                                                  0                                                  \n",
       "2                                                  1                                                  \n",
       "3                                                  3                                                  \n",
       "4                                                  3                                                  \n",
       "\n",
       "   Do you think that team members/co-workers would view you more negatively if they knew you suffered from a mental health issue?  \\\n",
       "0                                                  0                                                                                \n",
       "1                                                  0                                                                                \n",
       "2                                                  1                                                                                \n",
       "3                                                  1                                                                                \n",
       "4                                                  1                                                                                \n",
       "\n",
       "   How willing would you be to share with friends and family that you have a mental illness?  \\\n",
       "0                                                  1                                           \n",
       "1                                                  1                                           \n",
       "2                                                  1                                           \n",
       "3                                                  1                                           \n",
       "4                                                  1                                           \n",
       "\n",
       "   Have you observed or experienced an unsupportive or badly handled response to a mental health issue in your current or previous workplace?  \\\n",
       "0                                                  0                                                                                            \n",
       "1                                                  0                                                                                            \n",
       "2                                                  1                                                                                            \n",
       "3                                                  0                                                                                            \n",
       "4                                                  3                                                                                            \n",
       "\n",
       "   Do you have a family history of mental illness?  \\\n",
       "0                                                0   \n",
       "1                                                3   \n",
       "2                                                0   \n",
       "3                                                0   \n",
       "4                                                3   \n",
       "\n",
       "   Have you had a mental health disorder in the past?  \\\n",
       "0                                                  3    \n",
       "1                                                  3    \n",
       "2                                                  1    \n",
       "3                                                  3    \n",
       "4                                                  3    \n",
       "\n",
       "   Do you currently have a mental health disorder?  \\\n",
       "0                                                0   \n",
       "1                                                3   \n",
       "2                                                0   \n",
       "3                                                3   \n",
       "4                                                3   \n",
       "\n",
       "   Have you been diagnosed with a mental health condition by a medical professional?  \\\n",
       "0                                                  3                                   \n",
       "1                                                  3                                   \n",
       "2                                                  0                                   \n",
       "3                                                  3                                   \n",
       "4                                                  3                                   \n",
       "\n",
       "   Have you ever sought treatment for a mental health issue from a mental health professional?  \\\n",
       "0                                                  0                                             \n",
       "1                                                  1                                             \n",
       "2                                                  1                                             \n",
       "3                                                  1                                             \n",
       "4                                                  1                                             \n",
       "\n",
       "   If you have a mental health issue, do you feel that it interferes with your work when being treated effectively?  \\\n",
       "0                                                  0                                                                  \n",
       "1                                                  1                                                                  \n",
       "2                                                  0                                                                  \n",
       "3                                                  2                                                                  \n",
       "4                                                  2                                                                  \n",
       "\n",
       "   If you have a mental health issue, do you feel that it interferes with your work when NOT being treated effectively?  \\\n",
       "0                                                  0                                                                      \n",
       "1                                                  2                                                                      \n",
       "2                                                  0                                                                      \n",
       "3                                                  2                                                                      \n",
       "4                                                  2                                                                      \n",
       "\n",
       "   What is your age?  What is your gender?  Do you work remotely?  \n",
       "0                 39                     1                      2  \n",
       "1                 29                     1                      0  \n",
       "2                 38                     1                      3  \n",
       "3                 43                     1                      2  \n",
       "4                 43                     0                      2  "
      ]
     },
     "execution_count": 16,
     "metadata": {},
     "output_type": "execute_result"
    }
   ],
   "source": [
    "df_quant.head()"
   ]
  },
  {
   "cell_type": "markdown",
   "id": "dc926801-d5d4-4f43-80e6-60b3378b1feb",
   "metadata": {},
   "source": [
    "### 2-4-2. **Scale and see Correlation**\n",
    "Now we can clearly see the correlation between the answers. We can see some correlations:\n",
    "\n",
    "* Self-employed worker tends to work remotely\n",
    "* People who has anxiety that mental health issue hurts their career tend to reflain from bringing up to potential employer and also colleagues.\n",
    "* People suffering from mental health disorder tend to have the same disorder with their family, and also have past medical history."
   ]
  },
  {
   "cell_type": "code",
   "execution_count": 17,
   "id": "14d3acd2-d491-4a6f-80ba-5dc4c9ebf278",
   "metadata": {
    "tags": []
   },
   "outputs": [],
   "source": [
    "# scale data\n",
    "scaler = MinMaxScaler()\n",
    "df_scaled = scaler.fit_transform(df_quant[df_quant.columns])\n",
    "df_scaled = pd.DataFrame(df_scaled, columns = df_quant.columns)"
   ]
  },
  {
   "cell_type": "code",
   "execution_count": 18,
   "id": "e2fdbdcd-0c3a-4b2e-beea-31861aa8351d",
   "metadata": {
    "tags": []
   },
   "outputs": [
    {
     "data": {
      "image/png": "[encoded data removed]",
      "text/plain": [
       "<Figure size 720x720 with 2 Axes>"
      ]
     },
     "metadata": {
      "needs_background": "light"
     },
     "output_type": "display_data"
    }
   ],
   "source": [
    "# See Spearman correlation\n",
    "corr = df_scaled.corr(method ='spearman')\n",
    "mask = np.zeros_like(corr, dtype=bool)\n",
    "mask[np.triu_indices_from(mask)] = True\n",
    "f, ax = plt.subplots(figsize=(10, 10))\n",
    "sns.heatmap(corr, cmap='bwr', mask=mask, vmax=1, vmin=-1, center=0,square=True, linewidths=.5, cbar_kws={\"shrink\": .5})\n",
    "plt.show()"
   ]
  },
  {
   "cell_type": "markdown",
   "id": "84ff64de-3fe4-43b8-a9fc-b4ac7af77618",
   "metadata": {},
   "source": [
    "***\n",
    "# 3. **Develop Model**\n",
    "## 3-1. **Train/Test Split**\n",
    "I've used standard implementation of sklearn (`train_test_split`) for spliting data.\n",
    "\n",
    "Ratio of test data is 20%, so there are 275 test data"
   ]
  },
  {
   "cell_type": "code",
   "execution_count": 19,
   "id": "9e48c1f7-e55e-4afe-9fbe-62959380e0b3",
   "metadata": {
    "tags": []
   },
   "outputs": [
    {
     "name": "stdout",
     "output_type": "stream",
     "text": [
      "(1097, 17) (275, 17) (1097,) (275,)\n"
     ]
    }
   ],
   "source": [
    "# Split dataset into train/test data\n",
    "train_X, test_X = train_test_split(df_quant, test_size=0.2)\n",
    "train_y = train_X['Do you currently have a mental health disorder?'].reset_index(drop=True)\n",
    "test_y = test_X['Do you currently have a mental health disorder?'].reset_index(drop=True)\n",
    "train_X = train_X.drop('Do you currently have a mental health disorder?', axis=1).reset_index(drop=True)\n",
    "test_X = test_X.drop('Do you currently have a mental health disorder?', axis=1).reset_index(drop=True)\n",
    "\n",
    "print(train_X.shape, test_X.shape, train_y.shape, test_y.shape)"
   ]
  },
  {
   "cell_type": "markdown",
   "id": "5aed6fdd-301d-4bf0-8ebc-5e5da5e68297",
   "metadata": {},
   "source": [
    "## 3-2. Basic Model\n",
    "### 3-2-1. **Apply Model**"
   ]
  },
  {
   "cell_type": "code",
   "execution_count": 20,
   "id": "0f518924-9ee6-44fb-a632-d51b9e488b52",
   "metadata": {
    "tags": []
   },
   "outputs": [],
   "source": [
    "# simple random forest model\n",
    "clf = RandomForestClassifier(max_depth=10, random_state=0, min_samples_leaf=3, n_estimators=100)\n",
    "clf.fit(train_X, train_y)\n",
    "pred = clf.predict(test_X)"
   ]
  },
  {
   "cell_type": "markdown",
   "id": "0aa104ef-c591-47e8-a136-859e9c708762",
   "metadata": {},
   "source": [
    "### 3-2-2. **See Metrics**"
   ]
  },
  {
   "cell_type": "code",
   "execution_count": 21,
   "id": "9d0b54c4-a821-4eab-b762-a9fd9b33ca8e",
   "metadata": {
    "tags": []
   },
   "outputs": [
    {
     "data": {
      "text/plain": [
       "array([[ 78,  13,   4],\n",
       "       [  9,  20,   4],\n",
       "       [ 17,  28, 102]], dtype=int64)"
      ]
     },
     "execution_count": 21,
     "metadata": {},
     "output_type": "execute_result"
    }
   ],
   "source": [
    "confusion_matrix(pred, test_y)"
   ]
  },
  {
   "cell_type": "markdown",
   "id": "9cf80e92-6415-4c93-a812-9a0f1c2a4e9f",
   "metadata": {},
   "source": [
    "### 3-2-3. **See accuracy per tree depth**\n",
    "Accuracy achieves its best at relatively small depth."
   ]
  },
  {
   "cell_type": "code",
   "execution_count": 22,
   "id": "9e70b8be-71db-406c-8c8a-4a57018870de",
   "metadata": {
    "tags": []
   },
   "outputs": [
    {
     "data": {
      "image/png": "[encoded data removed]",
      "text/plain": [
       "<Figure size 432x288 with 1 Axes>"
      ]
     },
     "metadata": {
      "needs_background": "light"
     },
     "output_type": "display_data"
    }
   ],
   "source": [
    "tree_depth = range(1,20)\n",
    "accuracy_scores = []\n",
    "\n",
    "for d in tree_depth:\n",
    "    clf = RandomForestClassifier(max_depth=d, random_state=0, min_samples_leaf=3, n_estimators=100)\n",
    "    clf.fit(train_X, train_y)\n",
    "    pred = clf.predict(test_X)\n",
    "    accuracy_scores.append(accuracy_score(pred, test_y))\n",
    "\n",
    "plt.plot(tree_depth, accuracy_scores)\n",
    "plt.grid()\n",
    "plt.xticks([0, 5, 10, 15, 20])\n",
    "plt.show()"
   ]
  },
  {
   "cell_type": "markdown",
   "id": "f0f17431-a59c-409f-a7ec-aa4392d71c8a",
   "metadata": {},
   "source": [
    "## 3-3. **Simplified Model**\n",
    "From correlation heatmap in 2-4-2, we can achieve nearly the same accuracy level with much simpler dataset.\n",
    "\n",
    "### 3-3-1. **Apply Model**\n",
    "Here I used only 6 explanatory variables which has strong correlation with target variable."
   ]
  },
  {
   "cell_type": "code",
   "execution_count": 23,
   "id": "148fb167-7a02-4f0a-ad11-0b2132d34861",
   "metadata": {
    "tags": []
   },
   "outputs": [
    {
     "name": "stdout",
     "output_type": "stream",
     "text": [
      "(1097, 6) (275, 6) (1097,) (275,)\n"
     ]
    }
   ],
   "source": [
    "# Split dataset into train/test data\n",
    "df_simplified = df_quant[\n",
    "    [\n",
    "        'Do you have a family history of mental illness?',\n",
    "        'Have you had a mental health disorder in the past?',\n",
    "        'Do you currently have a mental health disorder?',\n",
    "        'Have you been diagnosed with a mental health condition by a medical professional?',\n",
    "        'Have you ever sought treatment for a mental health issue from a mental health professional?',\n",
    "        'If you have a mental health issue, do you feel that it interferes with your work when being treated effectively?',\n",
    "        'If you have a mental health issue, do you feel that it interferes with your work when NOT being treated effectively?'\n",
    "    ]\n",
    "]\n",
    "train_X, test_X = train_test_split(df_simplified, test_size=0.2)\n",
    "train_y = train_X['Do you currently have a mental health disorder?'].reset_index(drop=True)\n",
    "test_y = test_X['Do you currently have a mental health disorder?'].reset_index(drop=True)\n",
    "train_X = train_X.drop('Do you currently have a mental health disorder?', axis=1).reset_index(drop=True)\n",
    "test_X = test_X.drop('Do you currently have a mental health disorder?', axis=1).reset_index(drop=True)\n",
    "\n",
    "print(train_X.shape, test_X.shape, train_y.shape, test_y.shape)"
   ]
  },
  {
   "cell_type": "code",
   "execution_count": 24,
   "id": "be8c0386-9c3b-470b-a79d-70c1c1a0cbf1",
   "metadata": {
    "tags": []
   },
   "outputs": [],
   "source": [
    "# simple random forest model\n",
    "clf = RandomForestClassifier(max_depth=10, random_state=0, min_samples_leaf=3, n_estimators=100)\n",
    "clf.fit(train_X, train_y)\n",
    "pred = clf.predict(test_X)"
   ]
  },
  {
   "cell_type": "markdown",
   "id": "74b2a9b1-2b00-408f-8498-2218634cd3e1",
   "metadata": {},
   "source": [
    "### 3-3-2. **See Metrics**"
   ]
  },
  {
   "cell_type": "code",
   "execution_count": 25,
   "id": "f00ca743-a9b8-4d44-9f41-a81b552da4d3",
   "metadata": {
    "tags": []
   },
   "outputs": [
    {
     "data": {
      "text/plain": [
       "array([[ 69,  14,   2],\n",
       "       [  5,  31,   4],\n",
       "       [ 16,  32, 102]], dtype=int64)"
      ]
     },
     "execution_count": 25,
     "metadata": {},
     "output_type": "execute_result"
    }
   ],
   "source": [
    "confusion_matrix(pred, test_y)"
   ]
  },
  {
   "cell_type": "markdown",
   "id": "e2a0fbeb-1f2d-4d4e-b701-2d4f4a6f143f",
   "metadata": {},
   "source": [
    "### 3-3-3. **See accuracy per tree depth**\n",
    "Accuracy achieves its best at very small depth.\n",
    "\n",
    "Performance itself is a bit worse than full model, but very close to the original one."
   ]
  },
  {
   "cell_type": "code",
   "execution_count": 26,
   "id": "04726b12-0279-4bb3-8599-e4bfda7ff141",
   "metadata": {
    "tags": []
   },
   "outputs": [
    {
     "data": {
      "image/png": "[encoded data removed]",
      "text/plain": [
       "<Figure size 432x288 with 1 Axes>"
      ]
     },
     "metadata": {
      "needs_background": "light"
     },
     "output_type": "display_data"
    }
   ],
   "source": [
    "tree_depth = range(1,20)\n",
    "accuracy_scores_simple = []\n",
    "\n",
    "for d in tree_depth:\n",
    "    clf = RandomForestClassifier(max_depth=d, random_state=0, min_samples_leaf=3, n_estimators=100)\n",
    "    clf.fit(train_X, train_y)\n",
    "    pred = clf.predict(test_X)\n",
    "    accuracy_scores_simple.append(accuracy_score(pred, test_y))\n",
    "\n",
    "plt.plot(tree_depth, accuracy_scores)\n",
    "plt.plot(tree_depth, accuracy_scores_simple)\n",
    "plt.grid()\n",
    "plt.xticks([0, 5, 10, 15, 20])\n",
    "plt.show()"
   ]
  },
  {
   "cell_type": "markdown",
   "id": "92243a80-55c1-4e76-9801-df234b80c254",
   "metadata": {},
   "source": [
    "***\n",
    "# 4. **Conlusion**\n",
    "In this report, mental health disorder is predicted from related questions done to the subject.\n",
    "\n",
    "Unfortunately (I mean there was no surprising insight found), full model wasn't so differnt with simplified one, as there are relatively few correlation found other than that.\n",
    "\n",
    "As the simplified model has too strong correlation with target variables, it would be more interesting to see if we can predict with the explanatory variables which seems irrelevant to the mental health disease.\n",
    "\n",
    "And more, it would be interesting to predict other variables which may help to understand how people with mental disorder acts against certain situation. "
   ]
  },
  {
   "cell_type": "code",
   "execution_count": null,
   "id": "cc294b74-53db-4086-9321-7bba8b82edb7",
   "metadata": {},
   "outputs": [],
   "source": []
  }
 ],
 "metadata": {
  "kernelspec": {
   "display_name": "Python 3",
   "language": "python",
   "name": "python3"
  },
  "language_info": {
   "codemirror_mode": {
    "name": "ipython",
    "version": 3
   },
   "file_extension": ".py",
   "mimetype": "text/x-python",
   "name": "python",
   "nbconvert_exporter": "python",
   "pygments_lexer": "ipython3",
   "version": "3.8.2"
  }
 },
 "nbformat": 4,
 "nbformat_minor": 5
}
